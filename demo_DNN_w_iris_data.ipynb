{
  "nbformat": 4,
  "nbformat_minor": 0,
  "metadata": {
    "colab": {
      "name": "demo_DNN_w_iris_data.ipynb",
      "provenance": [],
      "authorship_tag": "ABX9TyPA7YWn5fKRYwwJhd/xsCLg",
      "include_colab_link": true
    },
    "kernelspec": {
      "name": "python3",
      "display_name": "Python 3"
    }
  },
  "cells": [
    {
      "cell_type": "markdown",
      "metadata": {
        "id": "view-in-github",
        "colab_type": "text"
      },
      "source": [
        "<a href=\"https://colab.research.google.com/github/JohnCrissman/tensorflow_book_projects/blob/master/demo_DNN_w_iris_data.ipynb\" target=\"_parent\"><img src=\"https://colab.research.google.com/assets/colab-badge.svg\" alt=\"Open In Colab\"/></a>"
      ]
    },
    {
      "cell_type": "code",
      "metadata": {
        "id": "3wywVbsBl3te",
        "colab_type": "code",
        "colab": {
          "base_uri": "https://localhost:8080/",
          "height": 125
        },
        "outputId": "e3ed3c32-d41d-4d53-8d00-6dc5fb83d1a1"
      },
      "source": [
        "%tensorflow_version 2.x # this line is not required unless you are in a notebook"
      ],
      "execution_count": 1,
      "outputs": [
        {
          "output_type": "stream",
          "text": [
            "`%tensorflow_version` only switches the major version: 1.x or 2.x.\n",
            "You set: `2.x # this line is not required unless you are in a notebook`. This will be interpreted as: `2.x`.\n",
            "\n",
            "\n",
            "TensorFlow 2.x selected.\n"
          ],
          "name": "stdout"
        }
      ]
    },
    {
      "cell_type": "code",
      "metadata": {
        "id": "oTPAMqBsmUat",
        "colab_type": "code",
        "colab": {}
      },
      "source": [
        "from __future__ import absolute_import, division, print_function, unicode_literals\n",
        "\n",
        "\n",
        "import tensorflow as tf\n",
        "\n",
        "import pandas as pd\n"
      ],
      "execution_count": 2,
      "outputs": []
    },
    {
      "cell_type": "code",
      "metadata": {
        "id": "dK5F4PKCmUql",
        "colab_type": "code",
        "colab": {}
      },
      "source": [
        "CSV_COLUMN_NAMES = ['SepalLength', 'SepalWidth', 'PetalLength', 'PetalWidth', 'Species']\n",
        "SPECIES = ['Setosa', 'Versicolor', 'Virginica']\n",
        "# Lets define some constants to help us later on"
      ],
      "execution_count": 3,
      "outputs": []
    },
    {
      "cell_type": "code",
      "metadata": {
        "id": "nie0R65BmUyP",
        "colab_type": "code",
        "colab": {}
      },
      "source": [
        "train_path = tf.keras.utils.get_file(\n",
        "    \"iris_training.csv\", \"https://storage.googleapis.com/download.tensorflow.org/data/iris_training.csv\")\n",
        "test_path = tf.keras.utils.get_file(\n",
        "    \"iris_test.csv\", \"https://storage.googleapis.com/download.tensorflow.org/data/iris_test.csv\")\n",
        "\n",
        "train = pd.read_csv(train_path, names=CSV_COLUMN_NAMES, header=0)\n",
        "test = pd.read_csv(test_path, names=CSV_COLUMN_NAMES, header=0)\n",
        "# Here we use keras (a module inside of TensorFlow) to grab our datasets and read them into a panda"
      ],
      "execution_count": 5,
      "outputs": []
    },
    {
      "cell_type": "code",
      "metadata": {
        "id": "bkfjElywmU31",
        "colab_type": "code",
        "colab": {
          "base_uri": "https://localhost:8080/",
          "height": 195
        },
        "outputId": "50710e98-56ec-45ce-f150-57253dad41aa"
      },
      "source": [
        "train.head()"
      ],
      "execution_count": 6,
      "outputs": [
        {
          "output_type": "execute_result",
          "data": {
            "text/html": [
              "<div>\n",
              "<style scoped>\n",
              "    .dataframe tbody tr th:only-of-type {\n",
              "        vertical-align: middle;\n",
              "    }\n",
              "\n",
              "    .dataframe tbody tr th {\n",
              "        vertical-align: top;\n",
              "    }\n",
              "\n",
              "    .dataframe thead th {\n",
              "        text-align: right;\n",
              "    }\n",
              "</style>\n",
              "<table border=\"1\" class=\"dataframe\">\n",
              "  <thead>\n",
              "    <tr style=\"text-align: right;\">\n",
              "      <th></th>\n",
              "      <th>SepalLength</th>\n",
              "      <th>SepalWidth</th>\n",
              "      <th>PetalLength</th>\n",
              "      <th>PetalWidth</th>\n",
              "      <th>Species</th>\n",
              "    </tr>\n",
              "  </thead>\n",
              "  <tbody>\n",
              "    <tr>\n",
              "      <th>0</th>\n",
              "      <td>6.4</td>\n",
              "      <td>2.8</td>\n",
              "      <td>5.6</td>\n",
              "      <td>2.2</td>\n",
              "      <td>2</td>\n",
              "    </tr>\n",
              "    <tr>\n",
              "      <th>1</th>\n",
              "      <td>5.0</td>\n",
              "      <td>2.3</td>\n",
              "      <td>3.3</td>\n",
              "      <td>1.0</td>\n",
              "      <td>1</td>\n",
              "    </tr>\n",
              "    <tr>\n",
              "      <th>2</th>\n",
              "      <td>4.9</td>\n",
              "      <td>2.5</td>\n",
              "      <td>4.5</td>\n",
              "      <td>1.7</td>\n",
              "      <td>2</td>\n",
              "    </tr>\n",
              "    <tr>\n",
              "      <th>3</th>\n",
              "      <td>4.9</td>\n",
              "      <td>3.1</td>\n",
              "      <td>1.5</td>\n",
              "      <td>0.1</td>\n",
              "      <td>0</td>\n",
              "    </tr>\n",
              "    <tr>\n",
              "      <th>4</th>\n",
              "      <td>5.7</td>\n",
              "      <td>3.8</td>\n",
              "      <td>1.7</td>\n",
              "      <td>0.3</td>\n",
              "      <td>0</td>\n",
              "    </tr>\n",
              "  </tbody>\n",
              "</table>\n",
              "</div>"
            ],
            "text/plain": [
              "   SepalLength  SepalWidth  PetalLength  PetalWidth  Species\n",
              "0          6.4         2.8          5.6         2.2        2\n",
              "1          5.0         2.3          3.3         1.0        1\n",
              "2          4.9         2.5          4.5         1.7        2\n",
              "3          4.9         3.1          1.5         0.1        0\n",
              "4          5.7         3.8          1.7         0.3        0"
            ]
          },
          "metadata": {
            "tags": []
          },
          "execution_count": 6
        }
      ]
    },
    {
      "cell_type": "code",
      "metadata": {
        "id": "vVqMJ5numU1y",
        "colab_type": "code",
        "colab": {
          "base_uri": "https://localhost:8080/",
          "height": 195
        },
        "outputId": "0d85023f-0d77-4b2e-e3a2-0e019736a4ad"
      },
      "source": [
        "# Separate the labels from the rest of the data.\n",
        "\n",
        "\n",
        "train_y = train.pop('Species')\n",
        "test_y = test.pop('Species')\n",
        "train.head() # the species column is now gone"
      ],
      "execution_count": 7,
      "outputs": [
        {
          "output_type": "execute_result",
          "data": {
            "text/html": [
              "<div>\n",
              "<style scoped>\n",
              "    .dataframe tbody tr th:only-of-type {\n",
              "        vertical-align: middle;\n",
              "    }\n",
              "\n",
              "    .dataframe tbody tr th {\n",
              "        vertical-align: top;\n",
              "    }\n",
              "\n",
              "    .dataframe thead th {\n",
              "        text-align: right;\n",
              "    }\n",
              "</style>\n",
              "<table border=\"1\" class=\"dataframe\">\n",
              "  <thead>\n",
              "    <tr style=\"text-align: right;\">\n",
              "      <th></th>\n",
              "      <th>SepalLength</th>\n",
              "      <th>SepalWidth</th>\n",
              "      <th>PetalLength</th>\n",
              "      <th>PetalWidth</th>\n",
              "    </tr>\n",
              "  </thead>\n",
              "  <tbody>\n",
              "    <tr>\n",
              "      <th>0</th>\n",
              "      <td>6.4</td>\n",
              "      <td>2.8</td>\n",
              "      <td>5.6</td>\n",
              "      <td>2.2</td>\n",
              "    </tr>\n",
              "    <tr>\n",
              "      <th>1</th>\n",
              "      <td>5.0</td>\n",
              "      <td>2.3</td>\n",
              "      <td>3.3</td>\n",
              "      <td>1.0</td>\n",
              "    </tr>\n",
              "    <tr>\n",
              "      <th>2</th>\n",
              "      <td>4.9</td>\n",
              "      <td>2.5</td>\n",
              "      <td>4.5</td>\n",
              "      <td>1.7</td>\n",
              "    </tr>\n",
              "    <tr>\n",
              "      <th>3</th>\n",
              "      <td>4.9</td>\n",
              "      <td>3.1</td>\n",
              "      <td>1.5</td>\n",
              "      <td>0.1</td>\n",
              "    </tr>\n",
              "    <tr>\n",
              "      <th>4</th>\n",
              "      <td>5.7</td>\n",
              "      <td>3.8</td>\n",
              "      <td>1.7</td>\n",
              "      <td>0.3</td>\n",
              "    </tr>\n",
              "  </tbody>\n",
              "</table>\n",
              "</div>"
            ],
            "text/plain": [
              "   SepalLength  SepalWidth  PetalLength  PetalWidth\n",
              "0          6.4         2.8          5.6         2.2\n",
              "1          5.0         2.3          3.3         1.0\n",
              "2          4.9         2.5          4.5         1.7\n",
              "3          4.9         3.1          1.5         0.1\n",
              "4          5.7         3.8          1.7         0.3"
            ]
          },
          "metadata": {
            "tags": []
          },
          "execution_count": 7
        }
      ]
    },
    {
      "cell_type": "code",
      "metadata": {
        "id": "lNwUJYP1mUvx",
        "colab_type": "code",
        "colab": {
          "base_uri": "https://localhost:8080/",
          "height": 122
        },
        "outputId": "9d53545b-3044-4993-823e-ab081cee9193"
      },
      "source": [
        "train_y.head()"
      ],
      "execution_count": 8,
      "outputs": [
        {
          "output_type": "execute_result",
          "data": {
            "text/plain": [
              "0    2\n",
              "1    1\n",
              "2    2\n",
              "3    0\n",
              "4    0\n",
              "Name: Species, dtype: int64"
            ]
          },
          "metadata": {
            "tags": []
          },
          "execution_count": 8
        }
      ]
    },
    {
      "cell_type": "code",
      "metadata": {
        "id": "guJy2WVhmUtt",
        "colab_type": "code",
        "colab": {
          "base_uri": "https://localhost:8080/",
          "height": 34
        },
        "outputId": "53d11a10-f59a-4137-d029-02417d14c624"
      },
      "source": [
        "train.shape"
      ],
      "execution_count": 9,
      "outputs": [
        {
          "output_type": "execute_result",
          "data": {
            "text/plain": [
              "(120, 4)"
            ]
          },
          "metadata": {
            "tags": []
          },
          "execution_count": 9
        }
      ]
    },
    {
      "cell_type": "code",
      "metadata": {
        "id": "_Kjb7RnSmUnx",
        "colab_type": "code",
        "colab": {}
      },
      "source": [
        "# Input Function\n",
        "def input_fn(features, labels, training=True, batch_size=256):\n",
        "    # Convert the inputs to a Dataset.\n",
        "    dataset = tf.data.Dataset.from_tensor_slices((dict(features), labels))\n",
        "\n",
        "    # Shuffle and repeat if you are in training mode.\n",
        "    if training:\n",
        "        dataset = dataset.shuffle(1000).repeat()\n",
        "    \n",
        "    return dataset.batch(batch_size)"
      ],
      "execution_count": 10,
      "outputs": []
    },
    {
      "cell_type": "code",
      "metadata": {
        "id": "sv-vvwMQoaVm",
        "colab_type": "code",
        "colab": {
          "base_uri": "https://localhost:8080/",
          "height": 54
        },
        "outputId": "730383dc-d9b6-4bee-b257-f638c6b6b821"
      },
      "source": [
        "# Feature columns describe how to use the input.\n",
        "my_feature_columns = []\n",
        "for key in train.keys():\n",
        "    my_feature_columns.append(tf.feature_column.numeric_column(key=key))\n",
        "print(my_feature_columns)"
      ],
      "execution_count": 11,
      "outputs": [
        {
          "output_type": "stream",
          "text": [
            "[NumericColumn(key='SepalLength', shape=(1,), default_value=None, dtype=tf.float32, normalizer_fn=None), NumericColumn(key='SepalWidth', shape=(1,), default_value=None, dtype=tf.float32, normalizer_fn=None), NumericColumn(key='PetalLength', shape=(1,), default_value=None, dtype=tf.float32, normalizer_fn=None), NumericColumn(key='PetalWidth', shape=(1,), default_value=None, dtype=tf.float32, normalizer_fn=None)]\n"
          ],
          "name": "stdout"
        }
      ]
    },
    {
      "cell_type": "code",
      "metadata": {
        "id": "MelNWfF1oaf8",
        "colab_type": "code",
        "colab": {
          "base_uri": "https://localhost:8080/",
          "height": 195
        },
        "outputId": "4e049e9a-bf8e-4bd0-e4a7-45020e7e2934"
      },
      "source": [
        "# Building the Model (DNNClassifier)\n",
        "# Build a DNN with 2 hidden layers with 30 and 10 hidden nodes each.\n",
        "classifier = tf.estimator.DNNClassifier(\n",
        "    feature_columns=my_feature_columns,\n",
        "    # Two hidden layers of 30 and 10 nodes respectively.\n",
        "    hidden_units=[30, 10],\n",
        "    # The model must choose between 3 classes.\n",
        "    n_classes=3)"
      ],
      "execution_count": 12,
      "outputs": [
        {
          "output_type": "stream",
          "text": [
            "INFO:tensorflow:Using default config.\n",
            "WARNING:tensorflow:Using temporary folder as model directory: /tmp/tmp2vofurvl\n",
            "INFO:tensorflow:Using config: {'_model_dir': '/tmp/tmp2vofurvl', '_tf_random_seed': None, '_save_summary_steps': 100, '_save_checkpoints_steps': None, '_save_checkpoints_secs': 600, '_session_config': allow_soft_placement: true\n",
            "graph_options {\n",
            "  rewrite_options {\n",
            "    meta_optimizer_iterations: ONE\n",
            "  }\n",
            "}\n",
            ", '_keep_checkpoint_max': 5, '_keep_checkpoint_every_n_hours': 10000, '_log_step_count_steps': 100, '_train_distribute': None, '_device_fn': None, '_protocol': None, '_eval_distribute': None, '_experimental_distribute': None, '_experimental_max_worker_delay_secs': None, '_session_creation_timeout_secs': 7200, '_service': None, '_cluster_spec': ClusterSpec({}), '_task_type': 'worker', '_task_id': 0, '_global_id_in_cluster': 0, '_master': '', '_evaluation_master': '', '_is_chief': True, '_num_ps_replicas': 0, '_num_worker_replicas': 1}\n"
          ],
          "name": "stdout"
        }
      ]
    },
    {
      "cell_type": "code",
      "metadata": {
        "id": "EVNNEeNsoawk",
        "colab_type": "code",
        "colab": {
          "base_uri": "https://localhost:8080/",
          "height": 1000
        },
        "outputId": "6d31d00b-f894-47e8-f44c-04091b31f628"
      },
      "source": [
        "# Training the model\n",
        "classifier.train(\n",
        "    input_fn=lambda: input_fn(train, train_y, training=True),\n",
        "    steps=5000)\n",
        "# We include a lambda to avoid creating an inner function previously"
      ],
      "execution_count": 15,
      "outputs": [
        {
          "output_type": "stream",
          "text": [
            "INFO:tensorflow:Calling model_fn.\n",
            "WARNING:tensorflow:Layer dnn is casting an input tensor from dtype float64 to the layer's dtype of float32, which is new behavior in TensorFlow 2.  The layer has dtype float32 because it's dtype defaults to floatx.\n",
            "\n",
            "If you intended to run this layer in float32, you can safely ignore this warning. If in doubt, this warning is likely only an issue if you are porting a TensorFlow 1.X model to TensorFlow 2.\n",
            "\n",
            "To change all layers to have dtype float64 by default, call `tf.keras.backend.set_floatx('float64')`. To change just this layer, pass dtype='float64' to the layer constructor. If you are the author of this layer, you can disable autocasting by passing autocast=False to the base Layer constructor.\n",
            "\n",
            "INFO:tensorflow:Done calling model_fn.\n",
            "INFO:tensorflow:Create CheckpointSaverHook.\n",
            "INFO:tensorflow:Graph was finalized.\n",
            "INFO:tensorflow:Restoring parameters from /tmp/tmp2vofurvl/model.ckpt-5000\n",
            "WARNING:tensorflow:From /usr/local/lib/python3.6/dist-packages/tensorflow/python/training/saver.py:1077: get_checkpoint_mtimes (from tensorflow.python.training.checkpoint_management) is deprecated and will be removed in a future version.\n",
            "Instructions for updating:\n",
            "Use standard file utilities to get mtimes.\n",
            "INFO:tensorflow:Running local_init_op.\n",
            "INFO:tensorflow:Done running local_init_op.\n",
            "INFO:tensorflow:Calling checkpoint listeners before saving checkpoint 5000...\n",
            "INFO:tensorflow:Saving checkpoints for 5000 into /tmp/tmp2vofurvl/model.ckpt.\n",
            "INFO:tensorflow:Calling checkpoint listeners after saving checkpoint 5000...\n",
            "INFO:tensorflow:loss = 0.28255922, step = 5000\n",
            "INFO:tensorflow:global_step/sec: 445.856\n",
            "INFO:tensorflow:loss = 0.27802545, step = 5100 (0.228 sec)\n",
            "INFO:tensorflow:global_step/sec: 580.838\n",
            "INFO:tensorflow:loss = 0.26474702, step = 5200 (0.170 sec)\n",
            "INFO:tensorflow:global_step/sec: 567.121\n",
            "INFO:tensorflow:loss = 0.28079647, step = 5300 (0.179 sec)\n",
            "INFO:tensorflow:global_step/sec: 558.314\n",
            "INFO:tensorflow:loss = 0.2579726, step = 5400 (0.177 sec)\n",
            "INFO:tensorflow:global_step/sec: 583.791\n",
            "INFO:tensorflow:loss = 0.27024555, step = 5500 (0.174 sec)\n",
            "INFO:tensorflow:global_step/sec: 557.953\n",
            "INFO:tensorflow:loss = 0.26554582, step = 5600 (0.179 sec)\n",
            "INFO:tensorflow:global_step/sec: 550.395\n",
            "INFO:tensorflow:loss = 0.26233286, step = 5700 (0.183 sec)\n",
            "INFO:tensorflow:global_step/sec: 565.705\n",
            "INFO:tensorflow:loss = 0.25694865, step = 5800 (0.175 sec)\n",
            "INFO:tensorflow:global_step/sec: 566.9\n",
            "INFO:tensorflow:loss = 0.25923064, step = 5900 (0.175 sec)\n",
            "INFO:tensorflow:global_step/sec: 577.321\n",
            "INFO:tensorflow:loss = 0.2521719, step = 6000 (0.173 sec)\n",
            "INFO:tensorflow:global_step/sec: 562.089\n",
            "INFO:tensorflow:loss = 0.25447804, step = 6100 (0.178 sec)\n",
            "INFO:tensorflow:global_step/sec: 575.993\n",
            "INFO:tensorflow:loss = 0.2478101, step = 6200 (0.173 sec)\n",
            "INFO:tensorflow:global_step/sec: 549.508\n",
            "INFO:tensorflow:loss = 0.24626878, step = 6300 (0.185 sec)\n",
            "INFO:tensorflow:global_step/sec: 537.881\n",
            "INFO:tensorflow:loss = 0.250592, step = 6400 (0.183 sec)\n",
            "INFO:tensorflow:global_step/sec: 553.695\n",
            "INFO:tensorflow:loss = 0.241841, step = 6500 (0.182 sec)\n",
            "INFO:tensorflow:global_step/sec: 511.204\n",
            "INFO:tensorflow:loss = 0.23674403, step = 6600 (0.199 sec)\n",
            "INFO:tensorflow:global_step/sec: 610.634\n",
            "INFO:tensorflow:loss = 0.23818076, step = 6700 (0.160 sec)\n",
            "INFO:tensorflow:global_step/sec: 625.916\n",
            "INFO:tensorflow:loss = 0.23664755, step = 6800 (0.162 sec)\n",
            "INFO:tensorflow:global_step/sec: 644.178\n",
            "INFO:tensorflow:loss = 0.22952211, step = 6900 (0.160 sec)\n",
            "INFO:tensorflow:global_step/sec: 604.55\n",
            "INFO:tensorflow:loss = 0.23619303, step = 7000 (0.159 sec)\n",
            "INFO:tensorflow:global_step/sec: 640.421\n",
            "INFO:tensorflow:loss = 0.23378061, step = 7100 (0.156 sec)\n",
            "INFO:tensorflow:global_step/sec: 642.781\n",
            "INFO:tensorflow:loss = 0.22002152, step = 7200 (0.158 sec)\n",
            "INFO:tensorflow:global_step/sec: 643.998\n",
            "INFO:tensorflow:loss = 0.22821918, step = 7300 (0.155 sec)\n",
            "INFO:tensorflow:global_step/sec: 639.227\n",
            "INFO:tensorflow:loss = 0.22214356, step = 7400 (0.154 sec)\n",
            "INFO:tensorflow:global_step/sec: 611.94\n",
            "INFO:tensorflow:loss = 0.21798304, step = 7500 (0.166 sec)\n",
            "INFO:tensorflow:global_step/sec: 621.559\n",
            "INFO:tensorflow:loss = 0.21711865, step = 7600 (0.161 sec)\n",
            "INFO:tensorflow:global_step/sec: 625.316\n",
            "INFO:tensorflow:loss = 0.21798481, step = 7700 (0.159 sec)\n",
            "INFO:tensorflow:global_step/sec: 636.806\n",
            "INFO:tensorflow:loss = 0.21810584, step = 7800 (0.157 sec)\n",
            "INFO:tensorflow:global_step/sec: 630.489\n",
            "INFO:tensorflow:loss = 0.21613088, step = 7900 (0.159 sec)\n",
            "INFO:tensorflow:global_step/sec: 586.204\n",
            "INFO:tensorflow:loss = 0.20984682, step = 8000 (0.169 sec)\n",
            "INFO:tensorflow:global_step/sec: 602.408\n",
            "INFO:tensorflow:loss = 0.20679794, step = 8100 (0.167 sec)\n",
            "INFO:tensorflow:global_step/sec: 560.649\n",
            "INFO:tensorflow:loss = 0.20654121, step = 8200 (0.177 sec)\n",
            "INFO:tensorflow:global_step/sec: 628.186\n",
            "INFO:tensorflow:loss = 0.21626787, step = 8300 (0.161 sec)\n",
            "INFO:tensorflow:global_step/sec: 638.929\n",
            "INFO:tensorflow:loss = 0.20988648, step = 8400 (0.155 sec)\n",
            "INFO:tensorflow:global_step/sec: 650.402\n",
            "INFO:tensorflow:loss = 0.205257, step = 8500 (0.153 sec)\n",
            "INFO:tensorflow:global_step/sec: 649.1\n",
            "INFO:tensorflow:loss = 0.20550394, step = 8600 (0.157 sec)\n",
            "INFO:tensorflow:global_step/sec: 615.282\n",
            "INFO:tensorflow:loss = 0.18921073, step = 8700 (0.162 sec)\n",
            "INFO:tensorflow:global_step/sec: 631.799\n",
            "INFO:tensorflow:loss = 0.20904347, step = 8800 (0.156 sec)\n",
            "INFO:tensorflow:global_step/sec: 630.709\n",
            "INFO:tensorflow:loss = 0.20174535, step = 8900 (0.158 sec)\n",
            "INFO:tensorflow:global_step/sec: 618.779\n",
            "INFO:tensorflow:loss = 0.19914976, step = 9000 (0.164 sec)\n",
            "INFO:tensorflow:global_step/sec: 631.418\n",
            "INFO:tensorflow:loss = 0.1941753, step = 9100 (0.157 sec)\n",
            "INFO:tensorflow:global_step/sec: 628.442\n",
            "INFO:tensorflow:loss = 0.19413453, step = 9200 (0.159 sec)\n",
            "INFO:tensorflow:global_step/sec: 647.668\n",
            "INFO:tensorflow:loss = 0.188591, step = 9300 (0.156 sec)\n",
            "INFO:tensorflow:global_step/sec: 632.433\n",
            "INFO:tensorflow:loss = 0.18760437, step = 9400 (0.158 sec)\n",
            "INFO:tensorflow:global_step/sec: 619.325\n",
            "INFO:tensorflow:loss = 0.19246726, step = 9500 (0.162 sec)\n",
            "INFO:tensorflow:global_step/sec: 506.322\n",
            "INFO:tensorflow:loss = 0.18849671, step = 9600 (0.195 sec)\n",
            "INFO:tensorflow:global_step/sec: 623.5\n",
            "INFO:tensorflow:loss = 0.18551898, step = 9700 (0.160 sec)\n",
            "INFO:tensorflow:global_step/sec: 623.973\n",
            "INFO:tensorflow:loss = 0.18575352, step = 9800 (0.161 sec)\n",
            "INFO:tensorflow:global_step/sec: 647.272\n",
            "INFO:tensorflow:loss = 0.177903, step = 9900 (0.155 sec)\n",
            "INFO:tensorflow:Calling checkpoint listeners before saving checkpoint 10000...\n",
            "INFO:tensorflow:Saving checkpoints for 10000 into /tmp/tmp2vofurvl/model.ckpt.\n",
            "INFO:tensorflow:Calling checkpoint listeners after saving checkpoint 10000...\n",
            "INFO:tensorflow:Loss for final step: 0.18151668.\n"
          ],
          "name": "stdout"
        },
        {
          "output_type": "execute_result",
          "data": {
            "text/plain": [
              "<tensorflow_estimator.python.estimator.canned.dnn.DNNClassifierV2 at 0x7fc295513eb8>"
            ]
          },
          "metadata": {
            "tags": []
          },
          "execution_count": 15
        }
      ]
    },
    {
      "cell_type": "code",
      "metadata": {
        "id": "YIZnhSCNoa51",
        "colab_type": "code",
        "colab": {
          "base_uri": "https://localhost:8080/",
          "height": 34
        },
        "outputId": "c07910df-6e3e-44d2-b2aa-afe6c4635a40"
      },
      "source": [
        "# lambda function example\n",
        "x = lambda: print(\"hi\")\n",
        "x()"
      ],
      "execution_count": 14,
      "outputs": [
        {
          "output_type": "stream",
          "text": [
            "hi\n"
          ],
          "name": "stdout"
        }
      ]
    },
    {
      "cell_type": "code",
      "metadata": {
        "id": "tz-RSeLvoa_O",
        "colab_type": "code",
        "colab": {
          "base_uri": "https://localhost:8080/",
          "height": 389
        },
        "outputId": "f6fd8c80-6623-481f-8a95-0c20b5073c0e"
      },
      "source": [
        "eval_result = classifier.evaluate(\n",
        "    input_fn=lambda: input_fn(test, test_y, training=False))\n",
        "\n",
        "print('\\nTest set accuracy: {accuracy:0.3f}\\n'.format(**eval_result))"
      ],
      "execution_count": 16,
      "outputs": [
        {
          "output_type": "stream",
          "text": [
            "INFO:tensorflow:Calling model_fn.\n",
            "WARNING:tensorflow:Layer dnn is casting an input tensor from dtype float64 to the layer's dtype of float32, which is new behavior in TensorFlow 2.  The layer has dtype float32 because it's dtype defaults to floatx.\n",
            "\n",
            "If you intended to run this layer in float32, you can safely ignore this warning. If in doubt, this warning is likely only an issue if you are porting a TensorFlow 1.X model to TensorFlow 2.\n",
            "\n",
            "To change all layers to have dtype float64 by default, call `tf.keras.backend.set_floatx('float64')`. To change just this layer, pass dtype='float64' to the layer constructor. If you are the author of this layer, you can disable autocasting by passing autocast=False to the base Layer constructor.\n",
            "\n",
            "INFO:tensorflow:Done calling model_fn.\n",
            "INFO:tensorflow:Starting evaluation at 2020-07-25T01:57:57Z\n",
            "INFO:tensorflow:Graph was finalized.\n",
            "INFO:tensorflow:Restoring parameters from /tmp/tmp2vofurvl/model.ckpt-10000\n",
            "INFO:tensorflow:Running local_init_op.\n",
            "INFO:tensorflow:Done running local_init_op.\n",
            "INFO:tensorflow:Inference Time : 0.29077s\n",
            "INFO:tensorflow:Finished evaluation at 2020-07-25-01:57:57\n",
            "INFO:tensorflow:Saving dict for global step 10000: accuracy = 0.96666664, average_loss = 0.20163496, global_step = 10000, loss = 0.20163496\n",
            "INFO:tensorflow:Saving 'checkpoint_path' summary for global step 10000: /tmp/tmp2vofurvl/model.ckpt-10000\n",
            "\n",
            "Test set accuracy: 0.967\n",
            "\n"
          ],
          "name": "stdout"
        }
      ]
    },
    {
      "cell_type": "code",
      "metadata": {
        "id": "m2gHU3lHobK0",
        "colab_type": "code",
        "colab": {
          "base_uri": "https://localhost:8080/",
          "height": 354
        },
        "outputId": "6aa85595-8d8b-402a-a516-f0c63a4f165d"
      },
      "source": [
        "# Predictions\n",
        "# User inputs in float values for the features and then the predicted label is printed here.\n",
        "\n",
        "\n",
        "def input_fn(features, batch_size=256):\n",
        "    # Convert the inputs to a Dataset without labels.\n",
        "    return tf.data.Dataset.from_tensor_slices(dict(features)).batch(batch_size)\n",
        "\n",
        "features = ['SepalLength', 'SepalWidth', 'PetalLength', 'PetalWidth']\n",
        "predict = {}\n",
        "\n",
        "print(\"Please type numeric values as prompted.\")\n",
        "for feature in features:\n",
        "  valid = True\n",
        "  while valid: \n",
        "    val = input(feature + \": \")\n",
        "    if not val.isdigit(): valid = False\n",
        "\n",
        "  predict[feature] = [float(val)]\n",
        "\n",
        "predictions = classifier.predict(input_fn=lambda: input_fn(predict))\n",
        "for pred_dict in predictions:\n",
        "    print(pred_dict)\n",
        "\n",
        "    class_id = pred_dict['class_ids'][0]\n",
        "    probability = pred_dict['probabilities'][class_id]\n",
        "\n",
        "    print('Prediction is \"{}\" ({:.1f}%)'.format(\n",
        "        SPECIES[class_id], 100 * probability))\n"
      ],
      "execution_count": 19,
      "outputs": [
        {
          "output_type": "stream",
          "text": [
            "Please type numeric values as prompted.\n",
            "SepalLength: 1\n",
            "SepalLength: 2\n",
            "SepalLength: 3\n",
            "SepalLength: 4\n",
            "SepalLength: 5\n",
            "SepalLength: 1.9\n",
            "SepalWidth: 2.3\n",
            "PetalLength: 2.0\n",
            "PetalWidth: 2.3\n",
            "INFO:tensorflow:Calling model_fn.\n",
            "INFO:tensorflow:Done calling model_fn.\n",
            "INFO:tensorflow:Graph was finalized.\n",
            "INFO:tensorflow:Restoring parameters from /tmp/tmp2vofurvl/model.ckpt-10000\n",
            "INFO:tensorflow:Running local_init_op.\n",
            "INFO:tensorflow:Done running local_init_op.\n",
            "{'logits': array([-1.1738641,  0.7908439,  1.8122935], dtype=float32), 'probabilities': array([0.03578809, 0.2552704 , 0.70894146], dtype=float32), 'class_ids': array([2]), 'classes': array([b'2'], dtype=object), 'all_class_ids': array([0, 1, 2], dtype=int32), 'all_classes': array([b'0', b'1', b'2'], dtype=object)}\n",
            "Prediction is \"Virginica\" (70.9%)\n"
          ],
          "name": "stdout"
        }
      ]
    },
    {
      "cell_type": "code",
      "metadata": {
        "id": "yJGKgFO9obUK",
        "colab_type": "code",
        "colab": {}
      },
      "source": [
        "# Here is some example input and expected classes you can try above\n",
        "expected = ['Setosa', 'Versicolor', 'Virginica']\n",
        "predict_x = {\n",
        "    'SepalLength': [5.1, 5.9, 6.9],\n",
        "    'SepalWidth': [3.3, 3.0, 3.1],\n",
        "    'PetalLength': [1.7, 4.2, 5.4],\n",
        "    'PetalWidth': [0.5, 1.5, 2.1],\n",
        "}"
      ],
      "execution_count": 20,
      "outputs": []
    },
    {
      "cell_type": "code",
      "metadata": {
        "id": "xl_xRwsOobRn",
        "colab_type": "code",
        "colab": {}
      },
      "source": [
        ""
      ],
      "execution_count": null,
      "outputs": []
    },
    {
      "cell_type": "code",
      "metadata": {
        "id": "Bn78MCihobO_",
        "colab_type": "code",
        "colab": {}
      },
      "source": [
        ""
      ],
      "execution_count": null,
      "outputs": []
    },
    {
      "cell_type": "code",
      "metadata": {
        "id": "EeXYVw9pobH7",
        "colab_type": "code",
        "colab": {}
      },
      "source": [
        ""
      ],
      "execution_count": null,
      "outputs": []
    },
    {
      "cell_type": "code",
      "metadata": {
        "id": "tNdYn-TCobFS",
        "colab_type": "code",
        "colab": {}
      },
      "source": [
        ""
      ],
      "execution_count": null,
      "outputs": []
    },
    {
      "cell_type": "code",
      "metadata": {
        "id": "Nu_82dQOobCT",
        "colab_type": "code",
        "colab": {}
      },
      "source": [
        ""
      ],
      "execution_count": null,
      "outputs": []
    },
    {
      "cell_type": "code",
      "metadata": {
        "id": "DfIzpbL7oa9Q",
        "colab_type": "code",
        "colab": {}
      },
      "source": [
        ""
      ],
      "execution_count": null,
      "outputs": []
    },
    {
      "cell_type": "code",
      "metadata": {
        "id": "6z45cXOdoa4z",
        "colab_type": "code",
        "colab": {}
      },
      "source": [
        ""
      ],
      "execution_count": null,
      "outputs": []
    },
    {
      "cell_type": "code",
      "metadata": {
        "id": "pSNxGbEyoa17",
        "colab_type": "code",
        "colab": {}
      },
      "source": [
        ""
      ],
      "execution_count": null,
      "outputs": []
    }
  ]
}